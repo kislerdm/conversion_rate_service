{
 "cells": [
  {
   "cell_type": "markdown",
   "metadata": {},
   "source": [
    "# Conversion Rate Prediction Service\n",
    "\n",
    "The notebook contains EDA, data curation and modeling experimentation\n",
    "\n",
    "**Objective**: to build model(s) for predicting users conversion rate based on the activity features per entity and device type\n",
    "\n",
    "**DoD for the model performance**\n",
    "\n",
    "MAE to be less then the ones can be done with the following naïve/baseline models:\n",
    "\n",
    "- predicting 0 for all entities\n",
    "- predicting the mean of the entire train data set\n",
    "- predicting the mean of the train data set by device\n",
    "- predicting the mean of the train data set by entity_id"
   ]
  },
  {
   "cell_type": "code",
   "execution_count": 1,
   "metadata": {},
   "outputs": [],
   "source": [
    "import os\n",
    "import pandas as pd\n",
    "import numpy as np\n",
    "import pandas_profiling\n",
    "import time\n",
    "\n",
    "np.random.seed(2019)"
   ]
  },
  {
   "cell_type": "code",
   "execution_count": 2,
   "metadata": {},
   "outputs": [],
   "source": [
    "DIR = os.getcwd()\n",
    "PATH_DATA = os.path.join(os.path.dirname(DIR), 'bucket/data')\n",
    "PATH_MODEL = os.path.join(os.path.dirname(DIR), 'bucket/model')"
   ]
  },
  {
   "cell_type": "code",
   "execution_count": 3,
   "metadata": {},
   "outputs": [],
   "source": [
    "df = pd.read_csv(os.path.join(PATH_DATA, 'input/technical_test_training_data.csv'))"
   ]
  },
  {
   "cell_type": "code",
   "execution_count": 4,
   "metadata": {},
   "outputs": [
    {
     "name": "stdout",
     "output_type": "stream",
     "text": [
      "<class 'pandas.core.frame.DataFrame'>\n",
      "RangeIndex: 56181 entries, 0 to 56180\n",
      "Columns: 165 entries, entity_id to Conversions\n",
      "dtypes: int64(164), object(1)\n",
      "memory usage: 70.7+ MB\n"
     ]
    }
   ],
   "source": [
    "df.info()"
   ]
  },
  {
   "cell_type": "markdown",
   "metadata": {},
   "source": [
    "Let's have a look at the data profile"
   ]
  },
  {
   "cell_type": "code",
   "execution_count": null,
   "metadata": {},
   "outputs": [],
   "source": [
    "df.profile_report()"
   ]
  },
  {
   "cell_type": "markdown",
   "metadata": {},
   "source": [
    "Based on the data set profiling, the following conclusions/observation can be made:\n",
    "\n",
    "- the target class is unbalanced with only about 17% of data points corresponding to a user conversion\n",
    "- device type distribution is also skewed with the ratio of classes tablet:smartphone:computer ~ 1:1:2\n",
    "- the data set has the time-series dimensiton and has two weeks worth of data\n",
    "- number of features can be reduced by omiting some columns due to their correlation:\n",
    "    - att2 ~ att6 ~ att28\n",
    "    - att10 ~ att11 ~ att44\n",
    "    - att17 ~ att19\n",
    "    - att9 = att35\n",
    "    - att4 = att26"
   ]
  },
  {
   "cell_type": "markdown",
   "metadata": {},
   "source": [
    "## Types casting+downcasting\n",
    "\n",
    "\n",
    "This step is advised to use (especially when it comes to floating point data type) to remove unnessesarly precision to reduce the memory consumbtion and reduce computation complexety"
   ]
  },
  {
   "cell_type": "code",
   "execution_count": null,
   "metadata": {},
   "outputs": [],
   "source": [
    "[i for i in df.columns if not i.startswith('att')]"
   ]
  },
  {
   "cell_type": "code",
   "execution_count": null,
   "metadata": {},
   "outputs": [],
   "source": [
    "col_int = ['Conversions', 'Clicks']\n",
    "col_cat = ['entity_id', 'device', 'week']"
   ]
  },
  {
   "cell_type": "code",
   "execution_count": null,
   "metadata": {},
   "outputs": [],
   "source": [
    "types = [f\"np.int{i}\" for i in [8, 16, 32, 64]]\n",
    "for col in col_int:\n",
    "    col_min = df[col].min()\n",
    "    col_max = df[col].max()\n",
    "    \n",
    "    for int_type in types:\n",
    "        if np.iinfo(eval(int_type)).min <= col_min and \\\n",
    "           col_max <= np.iinfo(eval(int_type)).max:\n",
    "                df[col] = df[col].astype(eval(int_type), copy=True) \n",
    "                break"
   ]
  },
  {
   "cell_type": "code",
   "execution_count": null,
   "metadata": {},
   "outputs": [],
   "source": [
    "df[col_cat].astype(\"category\")"
   ]
  },
  {
   "cell_type": "code",
   "execution_count": null,
   "metadata": {},
   "outputs": [],
   "source": [
    "type(np.int8)"
   ]
  },
  {
   "cell_type": "code",
   "execution_count": null,
   "metadata": {},
   "outputs": [],
   "source": [
    "df[['Conversions']].max()"
   ]
  }
 ],
 "metadata": {
  "kernelspec": {
   "display_name": "Python 3",
   "language": "python",
   "name": "python3"
  },
  "language_info": {
   "codemirror_mode": {
    "name": "ipython",
    "version": 3
   },
   "file_extension": ".py",
   "mimetype": "text/x-python",
   "name": "python",
   "nbconvert_exporter": "python",
   "pygments_lexer": "ipython3",
   "version": "3.7.4"
  }
 },
 "nbformat": 4,
 "nbformat_minor": 4
}
